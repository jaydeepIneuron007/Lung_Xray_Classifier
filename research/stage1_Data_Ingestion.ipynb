{
 "cells": [
  {
   "cell_type": "markdown",
   "metadata": {},
   "source": [
    "## Data Ingestion Notebook"
   ]
  },
  {
   "cell_type": "code",
   "execution_count": 1,
   "metadata": {},
   "outputs": [],
   "source": [
    "import os \n",
    "os.chdir(\"../\")"
   ]
  },
  {
   "cell_type": "code",
   "execution_count": 2,
   "metadata": {},
   "outputs": [
    {
     "data": {
      "text/plain": [
       "'/home/jvdboss/workspace/ML_DL/image_classification/Lung_Xray_Classifier'"
      ]
     },
     "execution_count": 2,
     "metadata": {},
     "output_type": "execute_result"
    }
   ],
   "source": [
    "pwd"
   ]
  },
  {
   "cell_type": "code",
   "execution_count": 3,
   "metadata": {},
   "outputs": [],
   "source": [
    "from dataclasses import dataclass\n",
    "from pathlib import Path\n",
    "\n",
    "@dataclass(frozen=True)\n",
    "class DataIngestionConfig:\n",
    "    root_dir: Path\n",
    "    source_URL: str\n",
    "    local_data_file: Path\n",
    "    unzip_dir: Path\n",
    "    train_path: Path\n",
    "    test_path: Path\n",
    "    params_test_ratio: float\n",
    "\n",
    "@dataclass\n",
    "class DataIngestionArtifacts:\n",
    "    ingested_train_dir : Path\n",
    "    ingested_test_dir: Path"
   ]
  },
  {
   "cell_type": "code",
   "execution_count": null,
   "metadata": {},
   "outputs": [],
   "source": []
  },
  {
   "cell_type": "code",
   "execution_count": 4,
   "metadata": {},
   "outputs": [],
   "source": [
    "from xray.constants import *\n",
    "from xray.utils import read_yaml, create_directories"
   ]
  },
  {
   "cell_type": "code",
   "execution_count": 5,
   "metadata": {},
   "outputs": [],
   "source": [
    "class ConfigurationManager:\n",
    "    def __init__(\n",
    "        self, \n",
    "        config_filepath = CONFIG_FILE_PATH,\n",
    "        params_filepath = PARAMS_FILE_PATH):\n",
    "        self.config = read_yaml(config_filepath)\n",
    "        self.params = read_yaml(params_filepath)\n",
    "        create_directories([self.config.artifacts_root])\n",
    "\n",
    "    def get_data_ingestion_config(self) -> DataIngestionConfig:\n",
    "        config = self.config.data_ingestion\n",
    "        \n",
    "        create_directories([config.root_dir])\n",
    "\n",
    "        data_ingestion_config = DataIngestionConfig(\n",
    "            root_dir=config.root_dir,\n",
    "            source_URL=config.source_URL,\n",
    "            local_data_file=config.local_data_file,\n",
    "            unzip_dir=config.unzip_dir,\n",
    "            train_path=config.train_path,\n",
    "            test_path=config.test_path,\n",
    "            params_test_ratio=self.params.TEST_RATIO,\n",
    "        )\n",
    "\n",
    "        return data_ingestion_config"
   ]
  },
  {
   "cell_type": "code",
   "execution_count": 6,
   "metadata": {},
   "outputs": [],
   "source": [
    "import os\n",
    "import urllib.request as request\n",
    "from zipfile import ZipFile\n",
    "import numpy as np\n",
    "import shutil\n",
    "import random\n",
    "\n",
    "class DataIngestion:\n",
    "    def __init__(self, config: DataIngestionConfig):\n",
    "        self.config = config\n",
    "\n",
    "    def download_file(self):\n",
    "        if not os.path.exists(self.config.local_data_file):\n",
    "            filename, headers = request.urlretrieve(\n",
    "                url = self.config.source_URL,\n",
    "                filename = self.config.local_data_file\n",
    "            )\n",
    "\n",
    "    def _get_updated_list_of_files(self, list_of_files):\n",
    "        return [f for f in list_of_files if f.endswith(\".jpeg\") and (\"NORMAL\" in f or \"PNEUMONIA\" in f)]\n",
    "\n",
    "    def _preprocess(self, zf: ZipFile, f: str, working_dir: str):\n",
    "        target_filepath = os.path.join(working_dir, f)\n",
    "        if not os.path.exists(target_filepath):\n",
    "            zf.extract(f, working_dir)\n",
    "        \n",
    "        if os.path.getsize(target_filepath) == 0:\n",
    "            os.remove(target_filepath)\n",
    "            \n",
    "    def unzip_and_clean(self):\n",
    "        \n",
    "        with ZipFile(file=self.config.local_data_file, mode=\"r\") as zf:\n",
    "            #print(self.config.local_data_file)\n",
    "            list_of_files = zf.namelist()\n",
    "            updated_list_of_files = self._get_updated_list_of_files(list_of_files)\n",
    "            # 1 print(updated_list_of_files)\n",
    "            for f in updated_list_of_files:\n",
    "                self._preprocess(zf, f, self.config.unzip_dir)\n",
    "    \n",
    "    def train_test_split(self):\n",
    "        \"\"\"This function would split the raw data into train and test folder\n",
    "        \"\"\"\n",
    "        try:\n",
    "            # 1. make train and test folder \n",
    "            unzip_images = self.config.unzip_dir\n",
    "            train_path = self.config.train_path\n",
    "            test_path = self.config.test_path\n",
    "            \n",
    "            #params.yaml\n",
    "            test_ratio = self.config.params_test_ratio\n",
    "            # 1. make train and test folder \n",
    "            train_path = os.path.join(os.getcwd(), unzip_images, train_path)\n",
    "            test_path = os.path.join(os.getcwd(), unzip_images, test_path)\n",
    "            print(train_path)\n",
    "            classes_dir = ['NORMAL', 'PNEUMONIA']\n",
    "\n",
    "            for cls in classes_dir:\n",
    "                os.makedirs(os.path.join(train_path, cls), exist_ok= True)\n",
    "                os.makedirs(os.path.join(test_path, cls), exist_ok=True)\n",
    "            \n",
    "            # 2. Split the raw data\n",
    "            raw_data_path = os.path.join(os.getcwd(), unzip_images, 'chest_xray')\n",
    "            for cls in classes_dir:\n",
    "                allFileNames = os.listdir(os.path.join(raw_data_path, cls))\n",
    "                #print(allFileNames)\n",
    "                np.random.shuffle(allFileNames)\n",
    "                train_FileNames, test_FileNames = np.split(np.array(allFileNames),\n",
    "                                    [int(len(allFileNames)* (1 - test_ratio))])\n",
    "\n",
    "                train_FileNames = [os.path.join(raw_data_path, cls, name) for name in train_FileNames.tolist()]\n",
    "                test_FileNames = [os.path.join(raw_data_path, cls, name) for name in test_FileNames.tolist()]\n",
    "\n",
    "                #print(train_FileNames)\n",
    "                for name in train_FileNames:\n",
    "                    shutil.copy(name, os.path.join(train_path, cls))\n",
    "\n",
    "                for name in test_FileNames:\n",
    "                    shutil.copy(name, os.path.join(test_path, cls))\n",
    "                \n",
    "                #print(test_FileNames)\n",
    "            data_ingestion_artifact = DataIngestionArtifacts(ingested_train_dir=train_path,\n",
    "                                                             ingested_test_dir= test_path)\n",
    "            return data_ingestion_artifact\n",
    "\n",
    "        except Exception as e:\n",
    "            raise e\n",
    "\n",
    "    def remove_raw_data_dir(self):\n",
    "        \n",
    "        shutil.rmtree(os.path.join(self.config.unzip_dir,'chest_xray'), ignore_errors=True)\n",
    "        shutil.rmtree(os.path.join(self.config.local_data_file), ignore_errors=True)\n",
    "\n",
    "    def run_data_ingestion(self):\n",
    "        self.download_file()\n",
    "        self.unzip_and_clean()\n",
    "        data_ingestion_artifact = self.train_test_split()\n",
    "#         self.train_test_split()\n",
    "        self.remove_raw_data_dir()\n",
    "        return data_ingestion_artifact\n",
    "        "
   ]
  },
  {
   "cell_type": "code",
   "execution_count": null,
   "metadata": {},
   "outputs": [],
   "source": []
  },
  {
   "cell_type": "code",
   "execution_count": 7,
   "metadata": {},
   "outputs": [
    {
     "name": "stdout",
     "output_type": "stream",
     "text": [
      "[2022-10-15 17:24:13,750: INFO: common]: yaml file: configs/config.yaml loaded successfully\n",
      "[2022-10-15 17:24:13,755: INFO: common]: yaml file: params.yaml loaded successfully\n",
      "[2022-10-15 17:24:13,756: INFO: common]: created directory at: artifacts\n",
      "[2022-10-15 17:24:13,757: INFO: common]: created directory at: artifacts/data_ingestion\n",
      "/home/jvdboss/workspace/ML_DL/image_classification/Lung_Xray_Classifier/artifacts/data_ingestion/train\n",
      "['NORMAL-229022-0001.jpeg', 'NORMAL-239549-0001.jpeg', 'NORMAL-767940-0001.jpeg', 'NORMAL-230877-0001.jpeg', 'NORMAL-1044645-0001.jpeg', 'NORMAL-534646-0001.jpeg', 'NORMAL-170867-0002.jpeg', 'NORMAL-678492-0002.jpeg', 'NORMAL-824917-0001.jpeg', 'NORMAL-233341-0001.jpeg', 'NORMAL-202916-0001.jpeg', 'NORMAL-170867-0001.jpeg', 'NORMAL-447225-0001.jpeg', 'NORMAL-462175-0002.jpeg', 'NORMAL-145240-0001.jpeg', 'NORMAL-284113-0001.jpeg', 'NORMAL-974509-0002.jpeg', 'NORMAL-1041364-0001.jpeg', 'NORMAL-705219-0001.jpeg', 'NORMAL-930887-0001.jpeg', 'NORMAL-712032-0001.jpeg', 'NORMAL-66795-0001.jpeg', 'NORMAL-177055-0002.jpeg', 'NORMAL-996167-0001.jpeg', 'NORMAL-385855-0002.jpeg', 'NORMAL-932552-0001.jpeg', 'NORMAL-831813-0001.jpeg', 'NORMAL-183773-0001.jpeg', 'NORMAL-701579-0001.jpeg', 'NORMAL-132181-0001.jpeg', 'NORMAL-1003233-0001.jpeg', 'NORMAL-839596-0001.jpeg', 'NORMAL-332359-0001.jpeg', 'NORMAL-566227-0002.jpeg', 'NORMAL-133685-0001.jpeg', 'NORMAL-974509-0001.jpeg', 'NORMAL-473372-0001.jpeg', 'NORMAL-705219-0002.jpeg', 'NORMAL-339692-0002.jpeg', 'NORMAL-385855-0004.jpeg', 'NORMAL-975757-0001.jpeg', 'NORMAL-252489-0001.jpeg', 'NORMAL-275284-0001.jpeg', 'NORMAL-445267-0001.jpeg', 'NORMAL-159556-0001.jpeg', 'NORMAL-926639-0001.jpeg', 'NORMAL-388586-0003.jpeg', 'NORMAL-155211-0001.jpeg', 'NORMAL-1034239-0001.jpeg', 'NORMAL-783461-0001.jpeg', 'NORMAL-678492-0001.jpeg', 'NORMAL-695402-0003.jpeg', 'NORMAL-284113-0002.jpeg', 'NORMAL-141619-0001.jpeg', 'NORMAL-483610-0001.jpeg', 'NORMAL-824917-0003.jpeg', 'NORMAL-824917-0002.jpeg', 'NORMAL-591136-0001.jpeg', 'NORMAL-770087-0001.jpeg', 'NORMAL-695402-0002.jpeg', 'NORMAL-388586-0002.jpeg', 'NORMAL-471293-0001.jpeg', 'NORMAL-695402-0001.jpeg', 'NORMAL-895844-0001.jpeg', 'NORMAL-566227-0001.jpeg', 'NORMAL-202916-0002.jpeg', 'NORMAL-1012843-0001.jpeg', 'NORMAL-263932-0001.jpeg', 'NORMAL-385855-0005.jpeg', 'NORMAL-975971-0001.jpeg', 'NORMAL-284113-0003.jpeg', 'NORMAL-618803-0001.jpeg', 'NORMAL-701579-0002.jpeg', 'NORMAL-518175-0001.jpeg', 'NORMAL-973361-0001.jpeg', 'NORMAL-202916-0003.jpeg', 'NORMAL-766362-0001.jpeg', 'NORMAL-1014768-0001.jpeg', 'NORMAL-1031320-0001.jpeg', 'NORMAL-895844-0002.jpeg', 'NORMAL-137300-0001.jpeg', 'NORMAL-293382-0001.jpeg', 'NORMAL-87870-0001.jpeg', 'NORMAL-546828-0001.jpeg', 'NORMAL-338872-0001.jpeg', 'NORMAL-191957-0001.jpeg', 'NORMAL-508988-0001.jpeg', 'NORMAL-32326-0001.jpeg', 'NORMAL-385855-0001.jpeg', 'NORMAL-717388-0001.jpeg', 'NORMAL-806218-0001.jpeg', 'NORMAL-1029510-0001.jpeg', 'NORMAL-1023731-0001.jpeg', 'NORMAL-200474-0001.jpeg', 'NORMAL-452722-0001.jpeg', 'NORMAL-791713-0001.jpeg', 'NORMAL-597494-0001.jpeg', 'NORMAL-963312-0001.jpeg', 'NORMAL-705474-0001.jpeg', 'NORMAL-339692-0001.jpeg', 'NORMAL-812189-0001.jpeg', 'NORMAL-431263-0001.jpeg', 'NORMAL-559372-0001.jpeg', 'NORMAL-202916-0004.jpeg', 'NORMAL-557197-0001.jpeg', 'NORMAL-705474-0002.jpeg', 'NORMAL-388586-0001.jpeg', 'NORMAL-462175-0001.jpeg', 'NORMAL-703667-0001.jpeg', 'NORMAL-471048-0001.jpeg', 'NORMAL-177055-0001.jpeg', 'NORMAL-385855-0003.jpeg', 'NORMAL-673276-0001.jpeg', 'NORMAL-324309-0001.jpeg', 'NORMAL-506998-0001.jpeg', 'NORMAL-191707-0001.jpeg', 'NORMAL-179015-0001.jpeg', 'NORMAL-652570-0001.jpeg', 'NORMAL-933709-0001.jpeg', 'NORMAL-715046-0001.jpeg', 'NORMAL-74708-0001.jpeg', 'NORMAL-28501-0001.jpeg', 'NORMAL-221753-0001.jpeg', 'NORMAL-71482-0001.jpeg', 'NORMAL-390699-0001.jpeg', 'NORMAL-831813-0002.jpeg']\n",
      "['BACTERIA-267057-0001.jpeg', 'BACTERIA-390779-0001.jpeg', 'BACTERIA-140838-0001.jpeg', 'BACTERIA-84621-0001.jpeg', 'BACTERIA-215369-0007.jpeg', 'BACTERIA-155541-0003.jpeg', 'BACTERIA-144505-0001.jpeg', 'BACTERIA-140838-0002.jpeg', 'BACTERIA-385176-0005.jpeg', 'BACTERIA-232309-0001.jpeg', 'BACTERIA-215369-0003.jpeg', 'BACTERIA-324273-0004.jpeg', 'BACTERIA-198200-0007.jpeg', 'BACTERIA-338181-0002.jpeg', 'BACTERIA-7422-0001.jpeg', 'BACTERIA-86966-0002.jpeg', 'BACTERIA-135743-0001.jpeg', 'BACTERIA-385176-0002.jpeg', 'BACTERIA-336122-0001.jpeg', 'BACTERIA-385176-0003.jpeg', 'BACTERIA-330954-0001.jpeg', 'BACTERIA-385176-0001.jpeg', 'BACTERIA-284986-0001.jpeg', 'BACTERIA-176882-0001.jpeg', 'BACTERIA-60241-0002.jpeg', 'BACTERIA-391346-0001.jpeg', 'BACTERIA-49691-0001.jpeg', 'BACTERIA-338181-0004.jpeg', 'BACTERIA-213622-0001.jpeg', 'BACTERIA-213622-0002.jpeg', 'BACTERIA-52163-0001.jpeg', 'BACTERIA-198200-0001.jpeg', 'BACTERIA-417263-0002.jpeg', 'BACTERIA-198200-0006.jpeg', 'BACTERIA-30629-0001.jpeg', 'BACTERIA-348175-0001.jpeg', 'BACTERIA-292199-0002.jpeg', 'BACTERIA-324273-0001.jpeg', 'BACTERIA-249675-0001.jpeg', 'BACTERIA-324273-0002.jpeg', 'BACTERIA-155541-0002.jpeg', 'BACTERIA-60241-0001.jpeg', 'BACTERIA-345112-0004.jpeg', 'BACTERIA-92115-0004.jpeg', 'BACTERIA-198200-0002.jpeg', 'BACTERIA-384983-0001.jpeg', 'BACTERIA-52163-0002.jpeg', 'BACTERIA-213622-0005.jpeg', 'BACTERIA-394844-0001.jpeg', 'BACTERIA-140838-0003.jpeg', 'BACTERIA-229708-0001.jpeg', 'BACTERIA-183203-0002.jpeg', 'BACTERIA-286376-0001.jpeg', 'BACTERIA-215369-0004.jpeg', 'BACTERIA-230688-0002.jpeg', 'BACTERIA-215369-0005.jpeg', 'BACTERIA-198200-0003.jpeg', 'BACTERIA-103798-0001.jpeg', 'BACTERIA-221435-0001.jpeg', 'BACTERIA-232309-0002.jpeg', 'BACTERIA-292199-0001.jpeg', 'BACTERIA-254226-0003.jpeg', 'BACTERIA-149498-0001.jpeg', 'BACTERIA-183203-0003.jpeg', 'BACTERIA-345112-0001.jpeg', 'BACTERIA-213622-0003.jpeg', 'BACTERIA-324273-0003.jpeg', 'BACTERIA-182330-0001.jpeg', 'BACTERIA-86966-0001.jpeg', 'BACTERIA-215369-0001.jpeg', 'BACTERIA-387616-0002.jpeg', 'BACTERIA-213622-0004.jpeg', 'BACTERIA-288869-0001.jpeg', 'BACTERIA-37006-0001.jpeg', 'BACTERIA-345112-0002.jpeg', 'BACTERIA-274469-0001.jpeg', 'BACTERIA-324273-0006.jpeg', 'BACTERIA-215369-0006.jpeg', 'BACTERIA-417263-0001.jpeg', 'BACTERIA-387616-0001.jpeg', 'BACTERIA-215369-0009.jpeg', 'BACTERIA-230688-0001.jpeg', 'BACTERIA-92115-0003.jpeg', 'BACTERIA-345112-0003.jpeg', 'BACTERIA-338181-0001.jpeg', 'BACTERIA-198200-0004.jpeg', 'BACTERIA-140838-0005.jpeg', 'BACTERIA-155541-0004.jpeg', 'BACTERIA-198200-0005.jpeg', 'BACTERIA-213622-0006.jpeg', 'BACTERIA-355597-0001.jpeg', 'BACTERIA-183203-0001.jpeg', 'BACTERIA-215369-0002.jpeg', 'BACTERIA-385176-0004.jpeg', 'BACTERIA-392982-0001.jpeg', 'BACTERIA-405014-0001.jpeg', 'BACTERIA-249618-0001.jpeg', 'BACTERIA-267057-0002.jpeg', 'BACTERIA-324273-0007.jpeg', 'BACTERIA-215369-0010.jpeg', 'BACTERIA-206525-0001.jpeg', 'BACTERIA-364560-0001.jpeg', 'BACTERIA-303135-0001.jpeg', 'BACTERIA-65696-0001.jpeg', 'BACTERIA-338181-0003.jpeg', 'BACTERIA-155541-0001.jpeg', 'BACTERIA-254226-0001.jpeg', 'BACTERIA-104960-0001.jpeg', 'BACTERIA-140838-0004.jpeg', 'BACTERIA-266879-0001.jpeg', 'BACTERIA-213622-0008.jpeg', 'BACTERIA-309179-0001.jpeg', 'BACTERIA-254226-0002.jpeg', 'BACTERIA-324273-0005.jpeg', 'BACTERIA-92115-0001.jpeg', 'BACTERIA-292296-0001.jpeg', 'BACTERIA-92115-0002.jpeg', 'BACTERIA-103798-0002.jpeg', 'BACTERIA-272219-0001.jpeg', 'BACTERIA-134339-0001.jpeg', 'BACTERIA-37006-0002.jpeg', 'BACTERIA-213622-0007.jpeg', 'BACTERIA-215369-0008.jpeg', 'BACTERIA-291080-0001.jpeg', 'BACTERIA-112674-0001.jpeg', 'BACTERIA-266879-0002.jpeg']\n"
     ]
    }
   ],
   "source": [
    "try:\n",
    "    config = ConfigurationManager()\n",
    "    data_ingestion_config = config.get_data_ingestion_config()\n",
    "    data_ingestion = DataIngestion(config=data_ingestion_config)\n",
    "    artifact=data_ingestion.run_data_ingestion()\n",
    "except Exception as e:\n",
    "    raise e"
   ]
  },
  {
   "cell_type": "code",
   "execution_count": 8,
   "metadata": {},
   "outputs": [
    {
     "data": {
      "text/plain": [
       "DataIngestionArtifacts(ingested_train_dir='/home/jvdboss/workspace/ML_DL/image_classification/Lung_Xray_Classifier/artifacts/data_ingestion/train', ingested_test_dir='/home/jvdboss/workspace/ML_DL/image_classification/Lung_Xray_Classifier/artifacts/data_ingestion/test')"
      ]
     },
     "execution_count": 8,
     "metadata": {},
     "output_type": "execute_result"
    }
   ],
   "source": [
    "artifact"
   ]
  },
  {
   "cell_type": "code",
   "execution_count": null,
   "metadata": {},
   "outputs": [],
   "source": []
  },
  {
   "cell_type": "code",
   "execution_count": null,
   "metadata": {},
   "outputs": [],
   "source": []
  },
  {
   "cell_type": "code",
   "execution_count": null,
   "metadata": {},
   "outputs": [],
   "source": []
  },
  {
   "cell_type": "code",
   "execution_count": null,
   "metadata": {},
   "outputs": [],
   "source": []
  },
  {
   "cell_type": "code",
   "execution_count": null,
   "metadata": {},
   "outputs": [],
   "source": []
  },
  {
   "cell_type": "code",
   "execution_count": null,
   "metadata": {},
   "outputs": [],
   "source": []
  },
  {
   "cell_type": "code",
   "execution_count": null,
   "metadata": {},
   "outputs": [],
   "source": []
  }
 ],
 "metadata": {
  "kernelspec": {
   "display_name": "Python 3 (ipykernel)",
   "language": "python",
   "name": "python3"
  },
  "language_info": {
   "codemirror_mode": {
    "name": "ipython",
    "version": 3
   },
   "file_extension": ".py",
   "mimetype": "text/x-python",
   "name": "python",
   "nbconvert_exporter": "python",
   "pygments_lexer": "ipython3",
   "version": "3.8.13"
  },
  "vscode": {
   "interpreter": {
    "hash": "f69f53eaf0fcb28b30926e5d9bfef1a9a62084efaed259b41a0ef23550d40f1d"
   }
  }
 },
 "nbformat": 4,
 "nbformat_minor": 2
}
