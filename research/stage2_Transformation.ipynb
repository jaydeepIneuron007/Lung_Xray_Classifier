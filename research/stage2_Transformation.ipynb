{
 "cells": [
  {
   "cell_type": "code",
   "execution_count": 1,
   "id": "1724b924",
   "metadata": {},
   "outputs": [],
   "source": [
    "import os \n",
    "os.chdir(\"../\")"
   ]
  },
  {
   "cell_type": "code",
   "execution_count": 2,
   "id": "013bb291",
   "metadata": {},
   "outputs": [
    {
     "data": {
      "text/plain": [
       "'/home/jvdboss/workspace/ML_DL/image_classification/Lung_Xray_Classifier'"
      ]
     },
     "execution_count": 2,
     "metadata": {},
     "output_type": "execute_result"
    }
   ],
   "source": [
    "pwd"
   ]
  },
  {
   "cell_type": "code",
   "execution_count": 3,
   "id": "3c8b7bf1",
   "metadata": {},
   "outputs": [],
   "source": [
    "from dataclasses import dataclass\n",
    "from pathlib import Path\n",
    "\n",
    "@dataclass(frozen=True)\n",
    "class TransformDataConfig:\n",
    "    root_dir: Path\n",
    "    unzip_dir: Path\n",
    "    transform_train_path: Path\n",
    "    transform_test_path: Path\n",
    "    params_brightness: float\n",
    "    params_contrast: float\n",
    "    params_saturation: float \n",
    "    params_hue: float\n",
    "    ingested_data: Path"
   ]
  },
  {
   "cell_type": "code",
   "execution_count": 4,
   "id": "33eff32b",
   "metadata": {},
   "outputs": [],
   "source": [
    "from xray.constants import *\n",
    "from xray.utils import read_yaml, create_directories"
   ]
  },
  {
   "cell_type": "code",
   "execution_count": 5,
   "id": "108fc650",
   "metadata": {},
   "outputs": [],
   "source": [
    "class ConfigurationManager:\n",
    "    def __init__(\n",
    "        self, \n",
    "        config_filepath = CONFIG_FILE_PATH,\n",
    "        params_filepath = PARAMS_FILE_PATH):\n",
    "        self.config = read_yaml(config_filepath)\n",
    "        self.params = read_yaml(params_filepath)\n",
    "        create_directories([self.config.artifacts_root])\n",
    "        \n",
    "    def get_transform_data_config(self) -> TransformDataConfig:\n",
    "        config = self.config.data_transformation\n",
    "        \n",
    "        create_directories([config.root_dir])\n",
    "        \n",
    "        transform_data_config = TransformDataConfig(\n",
    "            root_dir = Path(config.root_dir),\n",
    "            unzip_dir = Path(config.unzip_dir),\n",
    "            ingested_data = Path(config.ingested_data),\n",
    "            transform_train_path = Path(config.transform_train_data),\n",
    "            transform_test_path = Path(config.transform_test_data),\n",
    "            params_brightness = self.params.BRIGHTNESS,\n",
    "            params_contrast = self.params.CONTRAST,\n",
    "            params_saturation = self.params.SATURATION,\n",
    "            params_hue = self.params.HUE,\n",
    "                                                   )\n",
    "        return transform_data_config"
   ]
  },
  {
   "cell_type": "code",
   "execution_count": 6,
   "id": "c02a7fb2",
   "metadata": {},
   "outputs": [
    {
     "name": "stderr",
     "output_type": "stream",
     "text": [
      "/home/jvdboss/workspace/ML_DL/image_classification/Lung_Xray_Classifier/env/lib/python3.8/site-packages/tqdm/auto.py:22: TqdmWarning: IProgress not found. Please update jupyter and ipywidgets. See https://ipywidgets.readthedocs.io/en/stable/user_install.html\n",
      "  from .autonotebook import tqdm as notebook_tqdm\n"
     ]
    }
   ],
   "source": [
    "import os \n",
    "import urllib.request as request\n",
    "from zipfile import ZipFile\n",
    "from torchvision import datasets, transforms, models\n",
    "from torch.utils.data import DataLoader\n",
    "\n",
    "class TransformData:\n",
    "    def __init__(self, config: TransformDataConfig):\n",
    "        self.config = config\n",
    "    \n",
    "#     def get_list_files(dirName):\n",
    "#         '''\n",
    "#         input - directory location\n",
    "#         output - list the files in the directory\n",
    "#         '''\n",
    "#         files_list = os.listdir(dirName)\n",
    "        \n",
    "#         return files_list\n",
    "    \n",
    "#     def get_file_names(self):\n",
    "#         class_name = ['NORMAL','PNEUMONIA']\n",
    "\n",
    "\n",
    "#         data_path = self.config.root_dir\n",
    "\n",
    "#         files_list_normal_train = self.get_list_files(str(data_path)+'/train/'+class_name[0])\n",
    "#         files_list_pneu_train = self.get_list_files(data_path+'/train/'+class_name[1])\n",
    "#         files_list_normal_test = self.get_list_files(data_path+'/test/'+class_name[0])\n",
    "#         files_list_pneu_test = self.get_list_files(data_path+'/test/'+class_name[1])\n",
    "        \n",
    "#         return (files_list_normal_train,files_list_pneu_train,files_list_normal_test,files_list_pneu_test)\n",
    "    \n",
    "    def transforming_training_data(self):\n",
    "        train_transform = transforms.Compose([\n",
    "        transforms.Resize(224),\n",
    "        transforms.CenterCrop(224),\n",
    "        transforms.ColorJitter(brightness=self.config.params_brightness, contrast=self.config.params_contrast, saturation=self.config.params_saturation, hue=self.config.params_hue),\n",
    "        transforms.RandomHorizontalFlip(),\n",
    "        transforms.RandomRotation(10),\n",
    "        transforms.ToTensor(),\n",
    "        transforms.Normalize([0.485, 0.456, 0.406],\n",
    "                              [0.229, 0.224, 0.225])\n",
    "        ])\n",
    "        return train_transform\n",
    "    \n",
    "    def transforming_testing_data(self):\n",
    "        test_transform = transforms.Compose([\n",
    "        transforms.Resize(224),\n",
    "        transforms.CenterCrop(224),\n",
    "        transforms.ToTensor(),\n",
    "        transforms.Normalize([0.485, 0.456, 0.406],\n",
    "                              [0.229, 0.224, 0.225])\n",
    "        ])\n",
    "        return test_transform\n",
    "        \n",
    "    def data_loader(self):\n",
    "        data_path = self.config.ingested_data\n",
    "        train_transform = self.transforming_training_data\n",
    "        test_transform = self.transforming_testing_data\n",
    "        os.makedirs(os.path.join(data_path, 'train'),exist_ok=True)\n",
    "        os.makedirs(os.path.join(data_path, 'test'),exist_ok=True)\n",
    "\n",
    "        train_data = datasets.ImageFolder(os.path.join(data_path, 'train'), transform= train_transform)\n",
    "        test_data = datasets.ImageFolder(os.path.join(data_path, 'test'), transform= test_transform)\n",
    "        \n",
    "        \n",
    "        train_loader = DataLoader(train_data,\n",
    "                                  batch_size= 2, shuffle= True, pin_memory= True)\n",
    "        test_loader = DataLoader(test_data,\n",
    "                                 batch_size= 2, shuffle= False, pin_memory= True)\n",
    "        class_names = train_data.classes\n",
    "        print(class_names)\n",
    "        print(f'Number of train images: {len(train_data)}')\n",
    "        print(f'Number of test images: {len(test_data)}')\n",
    "        return train_loader,test_loader\n",
    "        \n",
    "    def run_transformation_data(self):\n",
    "#         self.get_file_names()\n",
    "        self.transforming_training_data()\n",
    "        self.transforming_testing_data()\n",
    "        train_loader,test_loader = self.data_loader()\n",
    "        return train_loader,test_loader"
   ]
  },
  {
   "cell_type": "code",
   "execution_count": 7,
   "id": "2e43dff9",
   "metadata": {},
   "outputs": [
    {
     "name": "stdout",
     "output_type": "stream",
     "text": [
      "[2022-10-15 16:14:35,942: INFO: common]: yaml file: configs/config.yaml loaded successfully\n",
      "[2022-10-15 16:14:35,945: INFO: common]: yaml file: params.yaml loaded successfully\n",
      "[2022-10-15 16:14:35,946: INFO: common]: created directory at: artifacts\n",
      "[2022-10-15 16:14:35,947: INFO: common]: created directory at: artifacts/transform_data\n",
      "['NORMAL', 'PNEUMONIA']\n",
      "Number of train images: 252\n",
      "Number of test images: 197\n"
     ]
    }
   ],
   "source": [
    "try:\n",
    "    config = ConfigurationManager()\n",
    "    transform_data_config = config.get_transform_data_config()\n",
    "    transformation_data = TransformData(config = transform_data_config)\n",
    "    transformation_data.run_transformation_data()\n",
    "except Exception as e:\n",
    "    raise e "
   ]
  },
  {
   "cell_type": "code",
   "execution_count": 11,
   "id": "c0da9688",
   "metadata": {},
   "outputs": [],
   "source": [
    "# def get_list_files(dirName):\n",
    "#     '''\n",
    "#     input - directory location\n",
    "#     output - list the files in the directory\n",
    "#     '''\n",
    "#     files_list = os.listdir(dirName)\n",
    "\n",
    "#     return files_list"
   ]
  },
  {
   "cell_type": "code",
   "execution_count": 12,
   "id": "a00b1f98",
   "metadata": {},
   "outputs": [],
   "source": [
    "# transform_data_config = config.get_transform_data_config()"
   ]
  },
  {
   "cell_type": "code",
   "execution_count": 13,
   "id": "b5d7b6d6",
   "metadata": {},
   "outputs": [],
   "source": [
    "# datapath =transform_data_config.root_dir\n",
    "# get_list_files(str(datapath)+'/train/NORMAL')"
   ]
  },
  {
   "cell_type": "code",
   "execution_count": 14,
   "id": "faa428f5",
   "metadata": {},
   "outputs": [],
   "source": [
    "# get_list_files()"
   ]
  },
  {
   "cell_type": "code",
   "execution_count": null,
   "id": "3a895c8b",
   "metadata": {},
   "outputs": [],
   "source": [
    "# transform_data_config"
   ]
  },
  {
   "cell_type": "code",
   "execution_count": null,
   "id": "018a97ae",
   "metadata": {},
   "outputs": [],
   "source": [
    "# data_path = self.config.unzip_dir"
   ]
  },
  {
   "cell_type": "code",
   "execution_count": null,
   "id": "8551e8ab",
   "metadata": {},
   "outputs": [],
   "source": [
    "# class_name = ['NORMAL','PNEUMONIA']\n",
    "# def get_list_files(dirName):\n",
    "#     '''\n",
    "#     input - directory location\n",
    "#     output - list the files in the directory\n",
    "#     '''\n",
    "#     files_list = os.listdir(dirName)\n",
    "#     return files_list\n",
    "\n",
    "# files_list_normal_train = get_list_files(data_path+'/train/'+self.config[\"artifacts\"]['data_transformation']['class_name']['NORMAL'])\n",
    "# files_list_pneu_train = get_list_files(data_path+'/train/'+self.config[\"artifacts\"]['data_transformation']['class_name']['PNEUMONIA'])\n",
    "# files_list_normal_test = get_list_files(data_path+'/test/'+self.config[\"artifacts\"][data_transformation][class_name][NORMAL])-\n",
    "# files_list_pneu_test = get_list_files(data_path+'/test/'+self.config[\"artifacts\"]['data_transformation']['class_name']['PNEUMONIA'])"
   ]
  },
  {
   "cell_type": "code",
   "execution_count": null,
   "id": "950dee7a",
   "metadata": {},
   "outputs": [],
   "source": [
    "# train_transform = transforms.Compose([\n",
    "#     transforms.Resize(224),\n",
    "#     transforms.CenterCrop(224),\n",
    "#     transforms.ColorJitter(brightness=0.10, contrast=0.1, saturation=0.10, hue=0.1),\n",
    "#     transforms.RandomHorizontalFlip(),\n",
    "#     transforms.RandomRotation(10),\n",
    "#     transforms.ToTensor(),\n",
    "#     transforms.Normalize([0.485, 0.456, 0.406],\n",
    "#                           [0.229, 0.224, 0.225])\n",
    "# ])\n",
    "# test_transform = transforms.Compose([\n",
    "#     transforms.Resize(224),\n",
    "#     transforms.CenterCrop(224),\n",
    "#     transforms.ToTensor(),\n",
    "#     transforms.Normalize([0.485, 0.456, 0.406],\n",
    "#                           [0.229, 0.224, 0.225])\n",
    "# ])\n"
   ]
  },
  {
   "cell_type": "code",
   "execution_count": null,
   "id": "e0309c1e",
   "metadata": {},
   "outputs": [],
   "source": [
    "# train_data = datasets.ImageFolder(os.path.join(data_path, 'train'), transform= train_transform)\n",
    "# test_data = datasets.ImageFolder(os.path.join(data_path, 'test'), transform= test_transform)\n",
    "# train_loader = DataLoader(train_data,\n",
    "#                           batch_size= 2, shuffle= True, pin_memory= True)\n",
    "# test_loader = DataLoader(test_data,\n",
    "#                          batch_size= 2, shuffle= False, pin_memory= True)\n",
    "# class_names = train_data.classes\n",
    "# print(class_names)\n",
    "# print(f'Number of train images: {len(train_data)}')\n",
    "# print(f'Number of test images: {len(test_data)}')"
   ]
  },
  {
   "cell_type": "code",
   "execution_count": null,
   "id": "8a77e9a0",
   "metadata": {},
   "outputs": [],
   "source": [
    "\n",
    "# def data_loader(self):\n",
    "#     train_data = datasets.ImageFolder(os.path.join(data_path, 'train'), transform= train_transform)\n",
    "#     test_data = datasets.ImageFolder(os.path.join(data_path, 'test'), transform= test_transform)\n",
    "#     train_loader = DataLoader(train_data,\n",
    "#                               batch_size= 2, shuffle= True, pin_memory= True)\n",
    "#     test_loader = DataLoader(test_data,\n",
    "#                              batch_size= 2, shuffle= False, pin_memory= True)\n",
    "#     class_names = train_data.classes\n",
    "#     print(class_names)\n",
    "#     print(f'Number of train images: {len(train_data)}')\n",
    "#     print(f'Number of test images: {len(test_data)}')"
   ]
  }
 ],
 "metadata": {
  "kernelspec": {
   "display_name": "Python 3 (ipykernel)",
   "language": "python",
   "name": "python3"
  },
  "language_info": {
   "codemirror_mode": {
    "name": "ipython",
    "version": 3
   },
   "file_extension": ".py",
   "mimetype": "text/x-python",
   "name": "python",
   "nbconvert_exporter": "python",
   "pygments_lexer": "ipython3",
   "version": "3.8.13"
  }
 },
 "nbformat": 4,
 "nbformat_minor": 5
}
